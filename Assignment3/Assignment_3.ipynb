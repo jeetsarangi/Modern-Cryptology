{
 "cells": [
  {
   "cell_type": "code",
   "execution_count": 25,
   "id": "1686743b",
   "metadata": {},
   "outputs": [],
   "source": [
    "def gcd(x,y):\n",
    "    if(x==0):\n",
    "        return y\n",
    "    return gcd(y%x,x)"
   ]
  },
  {
   "cell_type": "code",
   "execution_count": 26,
   "id": "eb45fd4a",
   "metadata": {},
   "outputs": [],
   "source": [
    "def po(a,b,m):\n",
    "    if(b==0):\n",
    "        return 1\n",
    "    \n",
    "    p = po(a,b // 2,m)%m\n",
    "    p = (p*p)%m\n",
    "    \n",
    "    if(b % 2 == 0):\n",
    "        return p\n",
    "    else:\n",
    "        return ((a*p) % m)"
   ]
  },
  {
   "cell_type": "code",
   "execution_count": 32,
   "id": "4eaad780",
   "metadata": {},
   "outputs": [],
   "source": [
    "def mI(a , m):\n",
    "    g = gcd(a, m)\n",
    "    if(g == 1):\n",
    "        y = po(a, m-2 ,m)\n",
    "        print(\"The modular inverse is \",y)\n",
    "        return y\n",
    "    else:\n",
    "        print(\"Does not exist\")"
   ]
  },
  {
   "cell_type": "code",
   "execution_count": 33,
   "id": "d6e6ed72",
   "metadata": {},
   "outputs": [],
   "source": [
    "y1 = 431955503618234519808008749742\n",
    "y2 = 176325509039323911968355873643\n",
    "y3 = 98486971404861992487294722613\n",
    "p = 455470209427676832372575348833"
   ]
  },
  {
   "cell_type": "code",
   "execution_count": 34,
   "id": "72c1600b",
   "metadata": {},
   "outputs": [
    {
     "name": "stdout",
     "output_type": "stream",
     "text": [
      "The modular inverse is  70749996790223471732904681640\n",
      "The modular inverse is  228947149478752602606353685125\n"
     ]
    }
   ],
   "source": [
    "y1_inverse = mI(y1,p)\n",
    "y2_inverse = mI(y2,p)"
   ]
  },
  {
   "cell_type": "code",
   "execution_count": 35,
   "id": "bb1688f1",
   "metadata": {},
   "outputs": [
    {
     "data": {
      "text/plain": [
       "111590994894663139264552154672"
      ]
     },
     "execution_count": 35,
     "metadata": {},
     "output_type": "execute_result"
    }
   ],
   "source": [
    "g_1544 = (y2 * y1_inverse)%p\n",
    "g_1544"
   ]
  },
  {
   "cell_type": "code",
   "execution_count": 36,
   "id": "0d94cd7d",
   "metadata": {},
   "outputs": [
    {
     "data": {
      "text/plain": [
       "110411376670918912626907526185"
      ]
     },
     "execution_count": 36,
     "metadata": {},
     "output_type": "execute_result"
    }
   ],
   "source": [
    "g_7167 = (y3 * y1_inverse)%p\n",
    "g_7167"
   ]
  },
  {
   "cell_type": "code",
   "execution_count": 37,
   "id": "4911068c",
   "metadata": {},
   "outputs": [
    {
     "data": {
      "text/plain": [
       "420413074251022028027270785553"
      ]
     },
     "execution_count": 37,
     "metadata": {},
     "output_type": "execute_result"
    }
   ],
   "source": [
    "g_5623 = (y3 * y2_inverse)%p\n",
    "g_5623"
   ]
  },
  {
   "cell_type": "code",
   "execution_count": 38,
   "id": "6f41459e",
   "metadata": {},
   "outputs": [
    {
     "name": "stdout",
     "output_type": "stream",
     "text": [
      "The modular inverse is  304296090672599420401986286302\n"
     ]
    },
    {
     "data": {
      "text/plain": [
       "161798558270556961732424822635"
      ]
     },
     "execution_count": 38,
     "metadata": {},
     "output_type": "execute_result"
    }
   ],
   "source": [
    "g_991 = (g_7167 * mI(po(g_1544,4,p),p))%p\n",
    "g_991"
   ]
  },
  {
   "cell_type": "code",
   "execution_count": 39,
   "id": "b6321ef1",
   "metadata": {},
   "outputs": [
    {
     "name": "stdout",
     "output_type": "stream",
     "text": [
      "The modular inverse is  218173384175465437436454958180\n"
     ]
    },
    {
     "data": {
      "text/plain": [
       "327597482298082119695568192760"
      ]
     },
     "execution_count": 39,
     "metadata": {},
     "output_type": "execute_result"
    }
   ],
   "source": [
    "g_438 = (po(g_991,2,p) * mI(g_1544,p))%p\n",
    "g_438"
   ]
  },
  {
   "cell_type": "code",
   "execution_count": 40,
   "id": "ffa4a390",
   "metadata": {},
   "outputs": [
    {
     "name": "stdout",
     "output_type": "stream",
     "text": [
      "The modular inverse is  297374246948059676278983181681\n"
     ]
    },
    {
     "data": {
      "text/plain": [
       "212427760325417336316893638262"
      ]
     },
     "execution_count": 40,
     "metadata": {},
     "output_type": "execute_result"
    }
   ],
   "source": [
    "g_115 = (mI(po(g_438,2,p),p) * g_991)%p\n",
    "g_115"
   ]
  },
  {
   "cell_type": "code",
   "execution_count": 41,
   "id": "609061ba",
   "metadata": {},
   "outputs": [
    {
     "name": "stdout",
     "output_type": "stream",
     "text": [
      "The modular inverse is  453530656410176241507046342872\n"
     ]
    },
    {
     "data": {
      "text/plain": [
       "62875864560156876567783127811"
      ]
     },
     "execution_count": 41,
     "metadata": {},
     "output_type": "execute_result"
    }
   ],
   "source": [
    "g_22 = (mI(g_438,p) * po(g_115,4,p))%p\n",
    "g_22"
   ]
  },
  {
   "cell_type": "code",
   "execution_count": 42,
   "id": "fff28b33",
   "metadata": {},
   "outputs": [
    {
     "name": "stdout",
     "output_type": "stream",
     "text": [
      "The modular inverse is  105600931401330644523752113862\n"
     ]
    },
    {
     "data": {
      "text/plain": [
       "108044907665466013935627786069"
      ]
     },
     "execution_count": 42,
     "metadata": {},
     "output_type": "execute_result"
    }
   ],
   "source": [
    "g_2 = (mI(po(g_115,4,p),p) * po(g_22,21,p))%p\n",
    "g_2"
   ]
  },
  {
   "cell_type": "code",
   "execution_count": 43,
   "id": "8a8db972",
   "metadata": {},
   "outputs": [
    {
     "name": "stdout",
     "output_type": "stream",
     "text": [
      "The modular inverse is  100551735247242729663164535176\n"
     ]
    },
    {
     "data": {
      "text/plain": [
       "254662155980870723273334022569"
      ]
     },
     "execution_count": 43,
     "metadata": {},
     "output_type": "execute_result"
    }
   ],
   "source": [
    "g_5 = (mI(po(g_22,5,p),p)*g_115)%p\n",
    "g_5"
   ]
  },
  {
   "cell_type": "code",
   "execution_count": 44,
   "id": "295b594b",
   "metadata": {},
   "outputs": [
    {
     "name": "stdout",
     "output_type": "stream",
     "text": [
      "The modular inverse is  254950689434017345885415339945\n"
     ]
    },
    {
     "data": {
      "text/plain": [
       "52565085417963311027694339"
      ]
     },
     "execution_count": 44,
     "metadata": {},
     "output_type": "execute_result"
    }
   ],
   "source": [
    "g = (mI(po(g_2,2,p),p) * g_5)%p\n",
    "g"
   ]
  },
  {
   "cell_type": "code",
   "execution_count": 45,
   "id": "a620b161",
   "metadata": {},
   "outputs": [
    {
     "name": "stdout",
     "output_type": "stream",
     "text": [
      "The modular inverse is  442956820316148690889301696615\n"
     ]
    },
    {
     "data": {
      "text/plain": [
       "134721542097659029845273957"
      ]
     },
     "execution_count": 45,
     "metadata": {},
     "output_type": "execute_result"
    }
   ],
   "source": [
    "password = (y1*mI(po(g,429,p),p))%p\n",
    "password"
   ]
  }
 ],
 "metadata": {
  "kernelspec": {
   "display_name": "Python 3",
   "language": "python",
   "name": "python3"
  },
  "language_info": {
   "codemirror_mode": {
    "name": "ipython",
    "version": 3
   },
   "file_extension": ".py",
   "mimetype": "text/x-python",
   "name": "python",
   "nbconvert_exporter": "python",
   "pygments_lexer": "ipython3",
   "version": "3.8.8"
  }
 },
 "nbformat": 4,
 "nbformat_minor": 5
}
