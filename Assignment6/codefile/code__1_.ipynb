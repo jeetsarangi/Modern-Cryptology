{
 "cells": [
  {
   "cell_type": "code",
   "execution_count": 1,
   "metadata": {
    "collapsed": false
   },
   "outputs": [
    {
     "data": {
      "text/plain": [
       "'We have used coopersmith function to calcualte the rules ,the below coopersmith function is referred from https://github.com/mimoo/RSA-and-LLL-attacks/blob/master/coppersmith.sage to implement the coppersmith function'"
      ]
     },
     "execution_count": 1,
     "metadata": {
     },
     "output_type": "execute_result"
    }
   ],
   "source": [
    "'''We have used coopersmith function to calcualte the rules ,the below coopersmith function is referred from https://github.com/mimoo/RSA-and-LLL-attacks/blob/master/coppersmith.sage to implement the coppersmith function'''"
   ]
  },
  {
   "cell_type": "code",
   "execution_count": 2,
   "metadata": {
    "collapsed": false
   },
   "outputs": [
   ],
   "source": [
    "def coppersmith_howgrave_univariate(pol, modulus, beta, mm, tt, XX):\n",
    "    \"\"\"\n",
    "    Coppersmith revisited by Howgrave-Graham\n",
    "    \n",
    "    finds a solution if:\n",
    "    * b|modulus, b >= modulus^beta , 0 < beta <= 1\n",
    "    * |x| < XX\n",
    "    \"\"\"\n",
    "    #\n",
    "    # init\n",
    "    #\n",
    "    dd = pol.degree()\n",
    "    nn = dd * mm + tt\n",
    "\n",
    "    #\n",
    "    # checks\n",
    "    #\n",
    "    if not 0 < beta <= 1:\n",
    "        raise ValueError(\"beta should belongs in (0, 1]\")\n",
    "\n",
    "    if not pol.is_monic():\n",
    "        raise ArithmeticError(\"Polynomial must be monic.\")\n",
    "\n",
    "    #\n",
    "    # calculate bounds and display them\n",
    "    #\n",
    "    \"\"\"\n",
    "    * we want to find g(x) such that ||g(xX)|| <= b^m / sqrt(n)\n",
    "    * we know LLL will give us a short vector v such that:\n",
    "    ||v|| <= 2^((n - 1)/4) * det(L)^(1/n)\n",
    "    * we will use that vector as a coefficient vector for our g(x)\n",
    "    \n",
    "    * so we want to satisfy:\n",
    "    2^((n - 1)/4) * det(L)^(1/n) < N^(beta*m) / sqrt(n)\n",
    "    \n",
    "    so we can obtain ||v|| < N^(beta*m) / sqrt(n) <= b^m / sqrt(n)\n",
    "    (it's important to use N because we might not know b)\n",
    "    \"\"\"\n",
    "#     if debug:\n",
    "#         # t optimized?\n",
    "#         print(\"\\n# Optimized t?\\n\")\n",
    "#         print(\"we want X^(n-1) < N^(beta*m) so that each vector is helpful\")\n",
    "#         cond1 = RR(XX^(nn-1))\n",
    "#         print(\"* X^(n-1) = \", cond1)\n",
    "#         cond2 = pow(modulus, beta*mm)\n",
    "#         print(\"* N^(beta*m) = \", cond2)\n",
    "#         print(\"* X^(n-1) < N^(beta*m) \\n-> GOOD\" if cond1 < cond2 else \"* X^(n-1) >= N^(beta*m) \\n-> NOT GOOD\")\n",
    "        \n",
    "#         # bound for X\n",
    "#         print(\"\\n# X bound respected?\\n\")\n",
    "#         print(\"we want X <= N^(((2*beta*m)/(n-1)) - ((delta*m*(m+1))/(n*(n-1)))) / 2 = M\")\n",
    "#         print(\"* X =\", XX)\n",
    "#         cond2 = RR(modulus^(((2*beta*mm)/(nn-1)) - ((dd*mm*(mm+1))/(nn*(nn-1)))) / 2)\n",
    "#         print(\"* M =\", cond2)\n",
    "#         print(\"* X <= M \\n-> GOOD\" if XX <= cond2 else \"* X > M \\n-> NOT GOOD\")\n",
    "\n",
    "#         # solution possible?\n",
    "#         print(\"\\n# Solutions possible?\\n\")\n",
    "#         detL = RR(modulus^(dd * mm * (mm + 1) / 2) * XX^(nn * (nn - 1) / 2))\n",
    "#         print(\"we can find a solution if 2^((n - 1)/4) * det(L)^(1/n) < N^(beta*m) / sqrt(n)\")\n",
    "#         cond1 = RR(2^((nn - 1)/4) * detL^(1/nn))\n",
    "#         print(\"* 2^((n - 1)/4) * det(L)^(1/n) = \", cond1)\n",
    "#         cond2 = RR(modulus^(beta*mm) / sqrt(nn))\n",
    "#         print(\"* N^(beta*m) / sqrt(n) = \", cond2)\n",
    "#         print(\"* 2^((n - 1)/4) * det(L)^(1/n) < N^(beta*m) / sqrt(n) \\n-> SOLUTION WILL BE FOUND\" if cond1 < cond2 else \"* 2^((n - 1)/4) * det(L)^(1/n) >= N^(beta*m) / sqroot(n) \\n-> NO SOLUTIONS MIGHT BE FOUND (but we never know)\")\n",
    "\n",
    "#         # warning about X\n",
    "#         print(\"\\n# Note that no solutions will be found _for sure_ if you don't respect:\\n* |root| < X \\n* b >= modulus^beta\\n\")\n",
    "    \n",
    "    #\n",
    "    # Coppersmith revisited algo for univariate\n",
    "    #\n",
    "\n",
    "    # change ring of pol and x\n",
    "    polZ = pol.change_ring(ZZ)\n",
    "    x = polZ.parent().gen()\n",
    "\n",
    "    # compute polynomials\n",
    "    gg = []\n",
    "    for ii in range(mm):\n",
    "        for jj in range(dd):\n",
    "            gg.append((x * XX)**jj * modulus**(mm - ii) * polZ(x * XX)**ii)\n",
    "    for ii in range(tt):\n",
    "        gg.append((x * XX)**ii * polZ(x * XX)**mm)\n",
    "    \n",
    "    # construct lattice B\n",
    "    BB = Matrix(ZZ, nn)\n",
    "\n",
    "    for ii in range(nn):\n",
    "        for jj in range(ii+1):\n",
    "            BB[ii, jj] = gg[ii][jj]\n",
    "\n",
    "    # display basis matrix\n",
    "#     if debug:\n",
    "#         matrix_overview(BB, modulus^mm)\n",
    "\n",
    "    # LLL\n",
    "    BB = BB.LLL()\n",
    "\n",
    "    # transform shortest vector in polynomial    \n",
    "    new_pol = 0\n",
    "    for ii in range(nn):\n",
    "        new_pol += x**ii * BB[0, ii] / XX**ii\n",
    "\n",
    "    # factor polynomial\n",
    "    potential_roots = new_pol.roots()\n",
    "    print(\"potential roots:\", potential_roots)\n",
    "\n",
    "    # test roots\n",
    "    roots = []\n",
    "    for root in potential_roots:\n",
    "        if root[0].is_integer():\n",
    "            result = polZ(ZZ(root[0]))\n",
    "            if gcd(modulus, result) >= modulus^beta:\n",
    "                roots.append(ZZ(root[0]))\n",
    "\n",
    "    # \n",
    "    return roots"
   ]
  },
  {
   "cell_type": "code",
   "execution_count": 3,
   "metadata": {
    "collapsed": false
   },
   "outputs": [
   ],
   "source": [
    "padding_text = \"Goldfish: This door has RSA encryption with exponent 5 and the password is \""
   ]
  },
  {
   "cell_type": "code",
   "execution_count": 15,
   "metadata": {
    "collapsed": false
   },
   "outputs": [
    {
     "data": {
      "text/plain": [
       "[71,\n",
       " 111,\n",
       " 108,\n",
       " 100,\n",
       " 102,\n",
       " 105,\n",
       " 115,\n",
       " 104,\n",
       " 58,\n",
       " 32,\n",
       " 84,\n",
       " 104,\n",
       " 105,\n",
       " 115,\n",
       " 32,\n",
       " 100,\n",
       " 111,\n",
       " 111,\n",
       " 114,\n",
       " 32,\n",
       " 104,\n",
       " 97,\n",
       " 115,\n",
       " 32,\n",
       " 82,\n",
       " 83,\n",
       " 65,\n",
       " 32,\n",
       " 101,\n",
       " 110,\n",
       " 99,\n",
       " 114,\n",
       " 121,\n",
       " 112,\n",
       " 116,\n",
       " 105,\n",
       " 111,\n",
       " 110,\n",
       " 32,\n",
       " 119,\n",
       " 105,\n",
       " 116,\n",
       " 104,\n",
       " 32,\n",
       " 101,\n",
       " 120,\n",
       " 112,\n",
       " 111,\n",
       " 110,\n",
       " 101,\n",
       " 110,\n",
       " 116,\n",
       " 32,\n",
       " 53,\n",
       " 32,\n",
       " 97,\n",
       " 110,\n",
       " 100,\n",
       " 32,\n",
       " 116,\n",
       " 104,\n",
       " 101,\n",
       " 32,\n",
       " 112,\n",
       " 97,\n",
       " 115,\n",
       " 115,\n",
       " 119,\n",
       " 111,\n",
       " 114,\n",
       " 100,\n",
       " 32,\n",
       " 105,\n",
       " 115,\n",
       " 32]"
      ]
     },
     "execution_count": 15,
     "metadata": {
     },
     "output_type": "execute_result"
    }
   ],
   "source": [
    "# Converted the padding text into its corresponding Ascii value.\n",
    "padding_integer=[]\n",
    "for i in padding_text:\n",
    "    padding_integer.append(ord(i))\n",
    "padding_integer"
   ]
  },
  {
   "cell_type": "code",
   "execution_count": 19,
   "metadata": {
    "collapsed": false
   },
   "outputs": [
    {
     "data": {
      "text/plain": [
       "'010001110110111101101100011001000110011001101001011100110110100000111010001000000101010001101000011010010111001100100000011001000110111101101111011100100010000001101000011000010111001100100000010100100101001101000001001000000110010101101110011000110111001001111001011100000111010001101001011011110110111000100000011101110110100101110100011010000010000001100101011110000111000001101111011011100110010101101110011101000010000000110101001000000110000101101110011001000010000001110100011010000110010100100000011100000110000101110011011100110111011101101111011100100110010000100000011010010111001100100000'"
      ]
     },
     "execution_count": 19,
     "metadata": {
     },
     "output_type": "execute_result"
    }
   ],
   "source": [
    "# Combined the above padding value integers after converting them into the binary of 8 bits each.\n",
    "final_padding = ''\n",
    "for i in padding_integer:\n",
    "    final_padding += f'{i:08b}'\n",
    "    \n",
    "final_padding"
   ]
  },
  {
   "cell_type": "code",
   "execution_count": 22,
   "metadata": {
    "collapsed": false
   },
   "outputs": [
   ],
   "source": [
    "# given exponent =5 \n",
    "e = 5\n",
    "# cipher C\n",
    "C = 60278917802604119062164317348887608230355852573467939559623685511662664827094799119961975647948079028381561909992682799715331816075454441008141268270670616332094929226033013419888728755237642448079785343995296657167212939406356487301422599540737091376110873706828441276659546878209779201560390761048657774255\n",
    "\n",
    "N = 84364443735725034864402554533826279174703893439763343343863260342756678609216895093779263028809246505955647572176682669445270008816481771701417554768871285020442403001649254405058303439906229201909599348669565697534331652019516409514800265887388539283381053937433496994442146419682027649079704982600857517093\n",
    "# Ring of integers modulo\n",
    "Zn = IntegerModRing(N)"
   ]
  },
  {
   "cell_type": "code",
   "execution_count": 23,
   "metadata": {
    "collapsed": false
   },
   "outputs": [
    {
     "data": {
      "text/plain": [
       "Ring of integers modulo 84364443735725034864402554533826279174703893439763343343863260342756678609216895093779263028809246505955647572176682669445270008816481771701417554768871285020442403001649254405058303439906229201909599348669565697534331652019516409514800265887388539283381053937433496994442146419682027649079704982600857517093"
      ]
     },
     "execution_count": 23,
     "metadata": {
     },
     "output_type": "execute_result"
    }
   ],
   "source": [
    "Zn"
   ]
  },
  {
   "cell_type": "code",
   "execution_count": 7,
   "metadata": {
    "collapsed": false
   },
   "outputs": [
   ],
   "source": [
    "'''Since these variables were required to implement the algoritm So are refere\n",
    "Ref:https://github.com/mimoo/RSA-and-LLL-attacks/'''\n",
    "beta = 1                                # b = N\n",
    "epsilon = beta / 7 "
   ]
  },
  {
   "cell_type": "code",
   "execution_count": 24,
   "metadata": {
    "collapsed": false
   },
   "outputs": [
    {
     "name": "stdout",
     "output_type": "stream",
     "text": [
      "potential roots: []\n",
      "potential roots: []\n",
      "potential roots: []\n"
     ]
    },
    {
     "name": "stdout",
     "output_type": "stream",
     "text": [
      "potential roots: []\n",
      "potential roots: []\n",
      "potential roots: []\n"
     ]
    },
    {
     "name": "stdout",
     "output_type": "stream",
     "text": [
      "potential roots: []\n",
      "potential roots: []\n",
      "potential roots: []\n"
     ]
    },
    {
     "name": "stdout",
     "output_type": "stream",
     "text": [
      "potential roots: []\n",
      "potential roots: []\n",
      "potential roots: []\n"
     ]
    },
    {
     "name": "stdout",
     "output_type": "stream",
     "text": [
      "potential roots: []\n",
      "potential roots: []\n",
      "potential roots: []\n"
     ]
    },
    {
     "name": "stdout",
     "output_type": "stream",
     "text": [
      "potential roots: []\n",
      "potential roots: []\n",
      "potential roots: []\n"
     ]
    },
    {
     "name": "stdout",
     "output_type": "stream",
     "text": [
      "potential roots: []\n",
      "potential roots: []\n",
      "potential roots: [(317438007725212639901273, 1)]\n",
      "The correct root is : 1000011001110000101100101010000001101110110111101001100011011110011011001011001\n"
     ]
    }
   ],
   "source": [
    "# the code will find out the roots and will print those it will run for 201 times untill the roots are found and ones found it will break.\n",
    "for leng in range(0, 201, 4):\n",
    "\n",
    "    #the below snippets are reffered from : https://github.com/mimoo/RSA-and-LLL-attacks/blob/master/coppersmith.sage\n",
    "    P.<M> = PolynomialRing(Zn)\n",
    "    pol = ((int(final_padding, 2)<<leng) + M)^e - C   \n",
    "    dd = pol.degree()\n",
    "    mm = ceil(beta**2 / (dd * epsilon))     # optimized value\n",
    "    tt = floor(dd * mm * ((1/beta) - 1))    # optimized value\n",
    "    XX = ceil(N**((beta**2/dd) - epsilon))  # optimized value\n",
    "    roots = coppersmith_howgrave_univariate(pol, N, beta, mm, tt, XX)\n",
    "    \n",
    "    if not roots:\n",
    "        continue\n",
    "    else:\n",
    "        print(\"The correct root is :\", bin(roots[0])[2:])\n",
    "        break"
   ]
  },
  {
   "cell_type": "code",
   "execution_count": 25,
   "metadata": {
    "collapsed": false
   },
   "outputs": [
   ],
   "source": [
    "plain = bin(roots[0])[2:]"
   ]
  },
  {
   "cell_type": "code",
   "execution_count": 26,
   "metadata": {
    "collapsed": false
   },
   "outputs": [
    {
     "data": {
      "text/plain": [
       "<class 'str'>"
      ]
     },
     "execution_count": 26,
     "metadata": {
     },
     "output_type": "execute_result"
    }
   ],
   "source": [
    "type(plain)"
   ]
  },
  {
   "cell_type": "code",
   "execution_count": 27,
   "metadata": {
    "collapsed": false
   },
   "outputs": [
    {
     "data": {
      "text/plain": [
       "'1000011001110000101100101010000001101110110111101001100011011110011011001011001'"
      ]
     },
     "execution_count": 27,
     "metadata": {
     },
     "output_type": "execute_result"
    }
   ],
   "source": [
    "len(plain)\n",
    "plain"
   ]
  },
  {
   "cell_type": "code",
   "execution_count": 28,
   "metadata": {
    "collapsed": false
   },
   "outputs": [
   ],
   "source": [
    "#Since the length is not a multiple of 8 added a zero to the plain\n",
    "plain = '0'+plain"
   ]
  },
  {
   "cell_type": "code",
   "execution_count": 29,
   "metadata": {
    "collapsed": false
   },
   "outputs": [
    {
     "name": "stdout",
     "output_type": "stream",
     "text": [
      "final plain:\n"
     ]
    },
    {
     "data": {
      "text/plain": [
       "'01000011001110000101100101010000001101110110111101001100011011110011011001011001'"
      ]
     },
     "execution_count": 29,
     "metadata": {
     },
     "output_type": "execute_result"
    }
   ],
   "source": [
    "print(\"final plain:\")\n",
    "plain"
   ]
  },
  {
   "cell_type": "code",
   "execution_count": 34,
   "metadata": {
    "collapsed": false
   },
   "outputs": [
   ],
   "source": [
    "# converting back the plain back to the text and finally the password is extracted.\n",
    "res = ''\n",
    "\n",
    "for i in range(0,len(plain),8):\n",
    "    s = plain[i:i+8]\n",
    "    n = int(s,2)\n",
    "    ch = chr(n)\n",
    "    res += ch"
   ]
  },
  {
   "cell_type": "code",
   "execution_count": 35,
   "metadata": {
    "collapsed": false
   },
   "outputs": [
    {
     "name": "stdout",
     "output_type": "stream",
     "text": [
      "The Password is :C8YP7oLo6Y\n"
     ]
    }
   ],
   "source": [
    "print(\"The Password is :\"+res)"
   ]
  },
  {
   "cell_type": "code",
   "execution_count": 0,
   "metadata": {
    "collapsed": false
   },
   "outputs": [
   ],
   "source": [
   ]
  }
 ],
 "metadata": {
  "kernelspec": {
   "display_name": "SageMath 9.5",
   "language": "sagemath",
   "metadata": {
    "cocalc": {
     "description": "Open-source mathematical software system",
     "priority": 10,
     "url": "https://www.sagemath.org/"
    }
   },
   "name": "sage-9.5",
   "resource_dir": "/ext/jupyter/kernels/sage-9.5"
  },
  "language_info": {
   "codemirror_mode": {
    "name": "ipython",
    "version": 3
   },
   "file_extension": ".py",
   "mimetype": "text/x-python",
   "name": "python",
   "nbconvert_exporter": "python",
   "pygments_lexer": "ipython3",
   "version": "3.9.9"
  }
 },
 "nbformat": 4,
 "nbformat_minor": 4
}